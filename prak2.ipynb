{
 "cells": [
  {
   "cell_type": "code",
   "execution_count": 1,
   "id": "37d79d05",
   "metadata": {},
   "outputs": [],
   "source": [
    "import tkinter as tk\n",
    "from tkinter import ttk\n",
    "from tkinter import *\n",
    "import math \n",
    "from math import pi\n",
    "import matplotlib.pyplot as plt\n",
    "import numpy as np\n",
    "\n",
    "root = tk.Tk()\n",
    "root.title(\"superellipse\")\n",
    "width,height = 420,420\n",
    "d=str(width)+\"x\"+str(height+60)\n",
    "root.geometry(d) \n",
    "c = tk.Canvas(root, width=width-10, height=height-10,bg='white')\n",
    "c.grid(row=0,column=0)\n",
    "\n",
    "\n",
    "def my_upd(value):\n",
    "    c.delete(\"all\")\n",
    "    # координаты\n",
    "    c.create_line(200,400, 200,0,width=2, fill='red')\n",
    "    c.create_text(110, 210, text = -1, fill=\"purple\")\n",
    "    c.create_text(310, 210, text = 1, fill=\"purple\")\n",
    "    c.create_text(210, 310, text = -1, fill=\"purple\")\n",
    "    c.create_text(210, 110, text = 1, fill=\"purple\")\n",
    "    c.create_text(210, 210, text = 0, fill=\"purple\")\n",
    "    c.create_text(260, 210, text = 0.5, fill=\"purple\")\n",
    "    c.create_text(210, 260, text = -0.5, fill=\"purple\")\n",
    "    c.create_text(150, 210, text = -0.5, fill=\"purple\")\n",
    "    c.create_text(210, 150, text = 0.5, fill=\"purple\")    \n",
    "    c.create_line(0,200,400,200,width=2, fill='red') \n",
    "    a,b=100, 100 \n",
    "    n = my_scale.get()\n",
    "    step=2000 # точность\n",
    "    piece=(pi*2)/step\n",
    "    t=0\n",
    "    for t1 in range(step+1):\n",
    "        x = ((np.abs(np.cos(t))) ** (2 / n)) * a * np.sign(np.cos(t))\n",
    "        y = ((np.abs(np.sin(t))) ** (2 / n)) * b * np.sign(np.sin(t))\n",
    "        t+=piece\n",
    "        c.create_oval(x+200, y+200, x+200, y+200)\n",
    "        \n",
    "slider = IntVar()\n",
    "my_scale = ttk.Scale(root, from_=0.1, to=3, orient='horizontal', length=300,command= my_upd, variable=slider)\n",
    "my_scale.grid(row=1,column=0) \n",
    "current_value_label = ttk.Label(root, text='value of n:').grid(row=2, columnspan=2,  sticky='n',ipadx=0,ipady=0)\n",
    "value_label = ttk.Label(root, textvariable=slider).grid(row=3,columnspan=2,sticky='n')\n",
    "root.mainloop()"
   ]
  },
  {
   "cell_type": "code",
   "execution_count": null,
   "id": "4d75163f",
   "metadata": {},
   "outputs": [],
   "source": []
  }
 ],
 "metadata": {
  "kernelspec": {
   "display_name": "Python 3 (ipykernel)",
   "language": "python",
   "name": "python3"
  },
  "language_info": {
   "codemirror_mode": {
    "name": "ipython",
    "version": 3
   },
   "file_extension": ".py",
   "mimetype": "text/x-python",
   "name": "python",
   "nbconvert_exporter": "python",
   "pygments_lexer": "ipython3",
   "version": "3.9.13"
  }
 },
 "nbformat": 4,
 "nbformat_minor": 5
}
