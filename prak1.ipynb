{
 "cells": [
  {
   "cell_type": "code",
   "execution_count": 1,
   "id": "82af29e1",
   "metadata": {},
   "outputs": [],
   "source": [
    "import math\n",
    "from tkinter import Canvas, Tk\n",
    "\n",
    "size = 600\n",
    "r1 = 205\n",
    "r2 = 4\n",
    "speed = 0.05\n",
    "def coords(angle):\n",
    "    x = math.cos(angle)* r1\n",
    "    y = math.sin(angle)* r1\n",
    "    return x - r2 + size / 2, y - r2 + size / 2, x + r2 + size / 2, y + r2 + size / 2\n",
    "\n",
    "def motion(angle):\n",
    "    angle = angle + speed\n",
    "    c.coords(f, coords(angle))\n",
    "    root.after(50, lambda: motion(angle))\n",
    "\n",
    "angle = 0\n",
    "root = Tk()\n",
    "\n",
    "c = Canvas(root, width=600, height=600, bg=\"white\")\n",
    "c.pack()\n",
    "ball = c.create_oval(100, 100, 500, 500)\n",
    "f = c.create_oval(coords(angle), fill='black')\n",
    "motion(angle)\n",
    "root.mainloop()"
   ]
  },
  {
   "cell_type": "code",
   "execution_count": 58,
   "id": "e543e13a",
   "metadata": {},
   "outputs": [
    {
     "name": "stdout",
     "output_type": "stream",
     "text": [
      "hello\n",
      "hello\n",
      "hello\n",
      "hello\n",
      "hello\n",
      "hello\n",
      "goodbye\n",
      "goodbye\n",
      "goodbye\n",
      "goodbye\n",
      "goodbye\n",
      "goodbye\n",
      "goodbye\n"
     ]
    }
   ],
   "source": [
    "import tkinter\n",
    "root = Tk()\n",
    "def Hello(event):\n",
    "    print (\"hello\")\n",
    "def Bye(event):\n",
    "    print (\"goodbye\")\n",
    "btn1 = Button(root,                 \n",
    "             text=\"button 1\",       \n",
    "             width=10,height=5,     \n",
    "             bg=\"pink\",fg=\"black\") \n",
    "btn2 = Button(root,                  \n",
    "             text=\"button 2\",       \n",
    "             width=10,height=5,    \n",
    "             bg=\"pink\",fg=\"black\")\n",
    "btn1.bind(\"<Button-1>\", Hello)\n",
    "btn2.bind(\"<Button-1>\", Bye)\n",
    "btn1.pack() \n",
    "btn2.pack()\n",
    "root.mainloop()"
   ]
  },
  {
   "cell_type": "code",
   "execution_count": null,
   "id": "d6b1a2d9",
   "metadata": {},
   "outputs": [],
   "source": []
  }
 ],
 "metadata": {
  "kernelspec": {
   "display_name": "Python 3 (ipykernel)",
   "language": "python",
   "name": "python3"
  },
  "language_info": {
   "codemirror_mode": {
    "name": "ipython",
    "version": 3
   },
   "file_extension": ".py",
   "mimetype": "text/x-python",
   "name": "python",
   "nbconvert_exporter": "python",
   "pygments_lexer": "ipython3",
   "version": "3.9.13"
  }
 },
 "nbformat": 4,
 "nbformat_minor": 5
}
